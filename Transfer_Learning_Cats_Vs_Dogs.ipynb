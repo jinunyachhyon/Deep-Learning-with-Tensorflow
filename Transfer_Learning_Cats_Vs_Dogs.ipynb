{
  "nbformat": 4,
  "nbformat_minor": 0,
  "metadata": {
    "colab": {
      "provenance": [],
      "gpuType": "T4",
      "authorship_tag": "ABX9TyNC3udncY0wbRD/bZdOUYUt",
      "include_colab_link": true
    },
    "kernelspec": {
      "name": "python3",
      "display_name": "Python 3"
    },
    "language_info": {
      "name": "python"
    },
    "accelerator": "GPU"
  },
  "cells": [
    {
      "cell_type": "markdown",
      "metadata": {
        "id": "view-in-github",
        "colab_type": "text"
      },
      "source": [
        "<a href=\"https://colab.research.google.com/github/jinunyachhyon/Deep-Learning-with-Tensorflow/blob/main/Transfer_Learning_Cats_Vs_Dogs.ipynb\" target=\"_parent\"><img src=\"https://colab.research.google.com/assets/colab-badge.svg\" alt=\"Open In Colab\"/></a>"
      ]
    },
    {
      "cell_type": "markdown",
      "source": [
        "# Import Cats and Dogs data"
      ],
      "metadata": {
        "id": "kHX4PQ_3yxtd"
      }
    },
    {
      "cell_type": "code",
      "source": [
        "# Imports \n",
        "import os\n",
        "import numpy as np\n",
        "import matplotlib.pyplot as plt\n",
        "import tensorflow as tf\n",
        "\n",
        "from tensorflow.keras.layers import Dense, Conv2D, MaxPool2D, Flatten, BatchNormalization\n",
        "from tensorflow.keras.models import Sequential"
      ],
      "metadata": {
        "id": "bdyBGxJ0yuVy"
      },
      "execution_count": 2,
      "outputs": []
    },
    {
      "cell_type": "code",
      "execution_count": null,
      "metadata": {
        "id": "RXkMcT0Fya70"
      },
      "outputs": [],
      "source": []
    }
  ]
}